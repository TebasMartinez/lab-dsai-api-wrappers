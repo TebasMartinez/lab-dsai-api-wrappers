{
 "cells": [
  {
   "cell_type": "markdown",
   "id": "bd0a3905-b346-43d5-9791-d3869299eb9d",
   "metadata": {},
   "source": [
    "# API wrappers"
   ]
  },
  {
   "cell_type": "markdown",
   "id": "327b4075-5374-4ecf-b8c5-c106d20d80e1",
   "metadata": {},
   "source": [
    "The OpenWeatherMap offers REST endpoints for querying current weather, forecasts, historical data, etc. However, accessing this data directly via the REST API requires handling multiple API calls, query parameters, and response parsing. The pyowm library abstracts these complexities and provides useful built-in functionalities."
   ]
  },
  {
   "cell_type": "markdown",
   "id": "1d731d49-fd79-44c8-8f72-68194c99fec0",
   "metadata": {},
   "source": [
    "After signing in to OpenWeatherMap retrieve your api key at https://home.openweathermap.org/api_keys\n",
    "\n",
    "You will also need to install the pyowm package: pip install pyowm "
   ]
  },
  {
   "cell_type": "code",
   "execution_count": 1,
   "id": "1bcbf57d-5793-40ce-96c8-b7c49faa14b1",
   "metadata": {},
   "outputs": [
    {
     "name": "stdout",
     "output_type": "stream",
     "text": [
      "Collecting pyowm\n",
      "  Downloading pyowm-3.5.0-py3-none-any.whl.metadata (6.9 kB)\n",
      "Requirement already satisfied: requests<3,>=2.20.0 in /opt/anaconda3/lib/python3.12/site-packages (from pyowm) (2.32.3)\n",
      "Collecting geojson<4,>=2.3.0 (from pyowm)\n",
      "  Downloading geojson-3.2.0-py3-none-any.whl.metadata (16 kB)\n",
      "Requirement already satisfied: PySocks<2,>=1.7.1 in /opt/anaconda3/lib/python3.12/site-packages (from pyowm) (1.7.1)\n",
      "Requirement already satisfied: charset-normalizer<4,>=2 in /opt/anaconda3/lib/python3.12/site-packages (from requests<3,>=2.20.0->pyowm) (3.3.2)\n",
      "Requirement already satisfied: idna<4,>=2.5 in /opt/anaconda3/lib/python3.12/site-packages (from requests<3,>=2.20.0->pyowm) (3.7)\n",
      "Requirement already satisfied: urllib3<3,>=1.21.1 in /opt/anaconda3/lib/python3.12/site-packages (from requests<3,>=2.20.0->pyowm) (2.2.3)\n",
      "Requirement already satisfied: certifi>=2017.4.17 in /opt/anaconda3/lib/python3.12/site-packages (from requests<3,>=2.20.0->pyowm) (2025.7.14)\n",
      "Downloading pyowm-3.5.0-py3-none-any.whl (4.5 MB)\n",
      "\u001b[2K   \u001b[90m━━━━━━━━━━━━━━━━━━━━━━━━━━━━━━━━━━━━━━━━\u001b[0m \u001b[32m4.5/4.5 MB\u001b[0m \u001b[31m16.8 MB/s\u001b[0m eta \u001b[36m0:00:00\u001b[0ma \u001b[36m0:00:01\u001b[0m\n",
      "\u001b[?25hDownloading geojson-3.2.0-py3-none-any.whl (15 kB)\n",
      "Installing collected packages: geojson, pyowm\n",
      "Successfully installed geojson-3.2.0 pyowm-3.5.0\n",
      "Note: you may need to restart the kernel to use updated packages.\n"
     ]
    }
   ],
   "source": [
    "# pip install pyowm "
   ]
  },
  {
   "cell_type": "code",
   "execution_count": 36,
   "id": "63b327b1-338b-4b14-a5b5-1bd8741da64b",
   "metadata": {},
   "outputs": [],
   "source": [
    "import requests\n",
    "import pyowm\n",
    "import json\n",
    "from auth import get_key\n",
    "\n",
    "api_key = get_key()"
   ]
  },
  {
   "cell_type": "markdown",
   "id": "f73d3029-c6a6-43b9-81a9-0e81c13bdf09",
   "metadata": {},
   "source": [
    "## use case 1: managing API keys\n",
    "\n",
    "In a raw rest API call you always have to manage credentials in each individual call. Wrappers usually store and manage the authentication for you"
   ]
  },
  {
   "cell_type": "code",
   "execution_count": 37,
   "id": "afbcdf71-845e-4aae-b8cc-8963745f7d4b",
   "metadata": {},
   "outputs": [
    {
     "data": {
      "text/plain": [
       "{'coord': {'lon': -0.1257, 'lat': 51.5085},\n",
       " 'weather': [{'id': 500,\n",
       "   'main': 'Rain',\n",
       "   'description': 'light rain',\n",
       "   'icon': '10d'}],\n",
       " 'base': 'stations',\n",
       " 'main': {'temp': 18.96,\n",
       "  'feels_like': 19.13,\n",
       "  'temp_min': 17.79,\n",
       "  'temp_max': 20,\n",
       "  'pressure': 995,\n",
       "  'humidity': 85,\n",
       "  'sea_level': 995,\n",
       "  'grnd_level': 991},\n",
       " 'visibility': 10000,\n",
       " 'wind': {'speed': 6.17, 'deg': 210, 'gust': 12.35},\n",
       " 'rain': {'1h': 0.49},\n",
       " 'clouds': {'all': 75},\n",
       " 'dt': 1756901862,\n",
       " 'sys': {'type': 2,\n",
       "  'id': 2075535,\n",
       "  'country': 'GB',\n",
       "  'sunrise': 1756876593,\n",
       "  'sunset': 1756925015},\n",
       " 'timezone': 3600,\n",
       " 'id': 2643743,\n",
       " 'name': 'London',\n",
       " 'cod': 200}"
      ]
     },
     "execution_count": 37,
     "metadata": {},
     "output_type": "execute_result"
    }
   ],
   "source": [
    "#You can get current weather data by making a GET request to an endpoint like:\n",
    "\n",
    "params = {\n",
    "    'appid' : api_key,\n",
    "    'units' : \"metric\"\n",
    "}\n",
    "\n",
    "response = requests.get('https://api.openweathermap.org/data/2.5/weather?q=London', params = params)\n",
    "\n",
    "json.loads(response.text)\n",
    "\n",
    "#but for every call you make using GET from now on you do need to add the parameters, since the raw API does not manage authentication for you"
   ]
  },
  {
   "cell_type": "markdown",
   "id": "b82c585b-fd83-4f59-9d46-14225f3e5037",
   "metadata": {},
   "source": [
    "Most wrappers (pyowm included) include some way of initializing a session with the authentication key that you then don't need to type again.\n",
    "\n",
    "Initialize pyowm with the default configuration. Thenopen the weather manager\n",
    "\n",
    "Check out a snippet here: https://pyowm.readthedocs.io/en/latest/v3/code-recipes.html#weather_data"
   ]
  },
  {
   "cell_type": "code",
   "execution_count": 40,
   "id": "f376d466-5a69-4a47-b35d-1870cbef61ff",
   "metadata": {},
   "outputs": [],
   "source": [
    "from pyowm.owm import OWM\n",
    "owm = OWM(api_key)\n",
    "weather_mgr = owm.weather_manager()"
   ]
  },
  {
   "cell_type": "markdown",
   "id": "840060e4-d3de-4b96-bb03-5bce02003f1d",
   "metadata": {},
   "source": [
    "## use case 2: Simplified calls\n",
    "\n",
    "With the raw REST API, you'd have to build a URL manually, send the request, and parse the JSON response to get the current weather."
   ]
  },
  {
   "cell_type": "code",
   "execution_count": 69,
   "id": "a2aa8395-0bed-4098-8881-0ffe93541b1f",
   "metadata": {},
   "outputs": [
    {
     "name": "stdout",
     "output_type": "stream",
     "text": [
      "Temperature: 18.51°C, Humidity: 86%, Wind Speed: 6.17 m/s\n"
     ]
    }
   ],
   "source": [
    "city = 'London'\n",
    "url = f'http://api.openweathermap.org/data/2.5/weather?q={city}'\n",
    "\n",
    "response = requests.get(url,params= params)\n",
    "data = response.json()\n",
    "temperature = data['main']['temp']\n",
    "humidity = data['main']['humidity']\n",
    "wind_speed = data['wind']['speed']\n",
    "\n",
    "print(f\"Temperature: {temperature}°C, Humidity: {humidity}%, Wind Speed: {wind_speed} m/s\")"
   ]
  },
  {
   "cell_type": "markdown",
   "id": "df5bc6df-bfb2-416d-8d06-3961d3a12234",
   "metadata": {},
   "source": [
    "Get the equivalent call as above for the city of London using the pyowm package"
   ]
  },
  {
   "cell_type": "code",
   "execution_count": 70,
   "id": "d1986770-4628-480b-b587-9ff5c42d301c",
   "metadata": {},
   "outputs": [
    {
     "name": "stdout",
     "output_type": "stream",
     "text": [
      "Temperature: 18.19°C, Humidity: 88%, Wind Speed: 5.81 m/s\n"
     ]
    }
   ],
   "source": [
    "mgr = owm.weather_manager()\n",
    "observation = mgr.weather_at_place('London,GB')  # the observation object is a box containing a weather object\n",
    "weather = observation.weather\n",
    "temperature = observation.weather.temperature(\"celsius\")[\"temp\"]\n",
    "humidity = observation.weather.humidity\n",
    "wind_speed = observation.weather.wind()[\"speed\"]\n",
    "\n",
    "print(f\"Temperature: {temperature}°C, Humidity: {humidity}%, Wind Speed: {wind_speed} m/s\")"
   ]
  },
  {
   "cell_type": "markdown",
   "id": "7e7b93b2-c383-4e49-8fce-a0923ac59031",
   "metadata": {},
   "source": [
    "## use case 3: Combining and chaining calls\n",
    "\n",
    "Wrappers often offer methods that make multiple calls to batch requests that make sense to batch. And often they offer methods that make sequences of calls that each returns information necessary to make the next call."
   ]
  },
  {
   "cell_type": "markdown",
   "id": "8f4a6b6c-f397-48ce-a3ef-f88e1fb95eb9",
   "metadata": {},
   "source": [
    "For example, to get a weather forecast for a specific city using the raw API you need to first geocode the city to get its latitude and longitude:"
   ]
  },
  {
   "cell_type": "code",
   "execution_count": 71,
   "id": "d182cf31-80f8-4b61-8de0-897d2d6479d7",
   "metadata": {},
   "outputs": [],
   "source": [
    "city = 'New York'\n",
    "geocode_url = f'http://api.openweathermap.org/data/2.5/weather?q={city}'\n",
    "geocode_response = requests.get(geocode_url,params=params).json()\n",
    "\n",
    "lat = geocode_response['coord']['lat']\n",
    "lon = geocode_response['coord']['lon']"
   ]
  },
  {
   "cell_type": "markdown",
   "id": "547c5deb-1070-4b72-b035-32ea5a615eda",
   "metadata": {},
   "source": [
    "Then, request the weather forecast for that latitude/longitude:"
   ]
  },
  {
   "cell_type": "code",
   "execution_count": 72,
   "id": "03737eff-cbc6-412f-b6a1-03e28b39b1e4",
   "metadata": {},
   "outputs": [
    {
     "name": "stdout",
     "output_type": "stream",
     "text": [
      "Time: 2025-09-03 15:00:00, Temp: 19.53°C\n",
      "Time: 2025-09-03 18:00:00, Temp: 22.86°C\n",
      "Time: 2025-09-03 21:00:00, Temp: 24.04°C\n",
      "Time: 2025-09-04 00:00:00, Temp: 20.7°C\n",
      "Time: 2025-09-04 03:00:00, Temp: 18.34°C\n",
      "Time: 2025-09-04 06:00:00, Temp: 17.12°C\n",
      "Time: 2025-09-04 09:00:00, Temp: 19.08°C\n",
      "Time: 2025-09-04 12:00:00, Temp: 19.89°C\n",
      "Time: 2025-09-04 15:00:00, Temp: 23.48°C\n",
      "Time: 2025-09-04 18:00:00, Temp: 25.01°C\n",
      "Time: 2025-09-04 21:00:00, Temp: 23.39°C\n",
      "Time: 2025-09-05 00:00:00, Temp: 22.71°C\n",
      "Time: 2025-09-05 03:00:00, Temp: 22.36°C\n",
      "Time: 2025-09-05 06:00:00, Temp: 19.95°C\n",
      "Time: 2025-09-05 09:00:00, Temp: 20.23°C\n",
      "Time: 2025-09-05 12:00:00, Temp: 20.53°C\n",
      "Time: 2025-09-05 15:00:00, Temp: 24.22°C\n",
      "Time: 2025-09-05 18:00:00, Temp: 27.24°C\n",
      "Time: 2025-09-05 21:00:00, Temp: 27.91°C\n",
      "Time: 2025-09-06 00:00:00, Temp: 26.9°C\n",
      "Time: 2025-09-06 03:00:00, Temp: 24.65°C\n",
      "Time: 2025-09-06 06:00:00, Temp: 24°C\n",
      "Time: 2025-09-06 09:00:00, Temp: 23.18°C\n",
      "Time: 2025-09-06 12:00:00, Temp: 23.4°C\n",
      "Time: 2025-09-06 15:00:00, Temp: 27.25°C\n",
      "Time: 2025-09-06 18:00:00, Temp: 29.28°C\n",
      "Time: 2025-09-06 21:00:00, Temp: 25.16°C\n",
      "Time: 2025-09-07 00:00:00, Temp: 22.32°C\n",
      "Time: 2025-09-07 03:00:00, Temp: 18.82°C\n",
      "Time: 2025-09-07 06:00:00, Temp: 18.52°C\n",
      "Time: 2025-09-07 09:00:00, Temp: 18.07°C\n",
      "Time: 2025-09-07 12:00:00, Temp: 18.36°C\n",
      "Time: 2025-09-07 15:00:00, Temp: 19.32°C\n",
      "Time: 2025-09-07 18:00:00, Temp: 19.16°C\n",
      "Time: 2025-09-07 21:00:00, Temp: 19.89°C\n",
      "Time: 2025-09-08 00:00:00, Temp: 19.86°C\n",
      "Time: 2025-09-08 03:00:00, Temp: 19.29°C\n",
      "Time: 2025-09-08 06:00:00, Temp: 18.65°C\n",
      "Time: 2025-09-08 09:00:00, Temp: 17.7°C\n",
      "Time: 2025-09-08 12:00:00, Temp: 17.5°C\n"
     ]
    }
   ],
   "source": [
    "forecast_url = f'http://api.openweathermap.org/data/2.5/forecast?lat={lat}&lon={lon}'\n",
    "forecast_response = requests.get(forecast_url, params=params).json()\n",
    "\n",
    "for entry in forecast_response['list']:\n",
    "    print(f\"Time: {entry['dt_txt']}, Temp: {entry['main']['temp']}°C\")"
   ]
  },
  {
   "cell_type": "markdown",
   "id": "f75ab558-7500-40fa-a4aa-93a18053059a",
   "metadata": {},
   "source": [
    "Two calls: one for geocoding, one for forecasts.\n",
    "But with pyowm, because this is a common operation, there is a method that handles the geocoding internally and then fetches the weather forecast in one step.\n",
    "\n",
    "Get the above forecast in a single call using pyowm.\n",
    "\n",
    "Hint: search for \"forecast_at_place\" in the code recipies of the documentation"
   ]
  },
  {
   "cell_type": "code",
   "execution_count": 86,
   "id": "11e3c1a8-260d-467c-8f47-793fd62a239b",
   "metadata": {},
   "outputs": [
    {
     "name": "stdout",
     "output_type": "stream",
     "text": [
      "Time: 2025-09-03 15:00:00+00:00, Temp: 19.8°C\n",
      "Time: 2025-09-03 18:00:00+00:00, Temp: 22.96°C\n",
      "Time: 2025-09-03 21:00:00+00:00, Temp: 24.04°C\n",
      "Time: 2025-09-04 00:00:00+00:00, Temp: 20.7°C\n",
      "Time: 2025-09-04 03:00:00+00:00, Temp: 18.34°C\n",
      "Time: 2025-09-04 06:00:00+00:00, Temp: 17.12°C\n",
      "Time: 2025-09-04 09:00:00+00:00, Temp: 19.08°C\n",
      "Time: 2025-09-04 12:00:00+00:00, Temp: 19.89°C\n",
      "Time: 2025-09-04 15:00:00+00:00, Temp: 23.48°C\n",
      "Time: 2025-09-04 18:00:00+00:00, Temp: 25.01°C\n",
      "Time: 2025-09-04 21:00:00+00:00, Temp: 23.89°C\n",
      "Time: 2025-09-05 00:00:00+00:00, Temp: 22.59°C\n",
      "Time: 2025-09-05 03:00:00+00:00, Temp: 22.39°C\n",
      "Time: 2025-09-05 06:00:00+00:00, Temp: 20.23°C\n",
      "Time: 2025-09-05 09:00:00+00:00, Temp: 20.42°C\n",
      "Time: 2025-09-05 12:00:00+00:00, Temp: 20.81°C\n",
      "Time: 2025-09-05 15:00:00+00:00, Temp: 24.27°C\n",
      "Time: 2025-09-05 18:00:00+00:00, Temp: 26.84°C\n",
      "Time: 2025-09-05 21:00:00+00:00, Temp: 27.72°C\n",
      "Time: 2025-09-06 00:00:00+00:00, Temp: 26.04°C\n",
      "Time: 2025-09-06 03:00:00+00:00, Temp: 24.54°C\n",
      "Time: 2025-09-06 06:00:00+00:00, Temp: 24.25°C\n",
      "Time: 2025-09-06 09:00:00+00:00, Temp: 23.28°C\n",
      "Time: 2025-09-06 12:00:00+00:00, Temp: 23.59°C\n",
      "Time: 2025-09-06 15:00:00+00:00, Temp: 25.72°C\n",
      "Time: 2025-09-06 18:00:00+00:00, Temp: 28.01°C\n",
      "Time: 2025-09-06 21:00:00+00:00, Temp: 24.66°C\n",
      "Time: 2025-09-07 00:00:00+00:00, Temp: 22.4°C\n",
      "Time: 2025-09-07 03:00:00+00:00, Temp: 20.51°C\n",
      "Time: 2025-09-07 06:00:00+00:00, Temp: 18.92°C\n",
      "Time: 2025-09-07 09:00:00+00:00, Temp: 18.64°C\n",
      "Time: 2025-09-07 12:00:00+00:00, Temp: 19.4°C\n",
      "Time: 2025-09-07 15:00:00+00:00, Temp: 23.44°C\n",
      "Time: 2025-09-07 18:00:00+00:00, Temp: 24.96°C\n",
      "Time: 2025-09-07 21:00:00+00:00, Temp: 24.06°C\n",
      "Time: 2025-09-08 00:00:00+00:00, Temp: 22.34°C\n",
      "Time: 2025-09-08 03:00:00+00:00, Temp: 21.64°C\n",
      "Time: 2025-09-08 06:00:00+00:00, Temp: 21.07°C\n",
      "Time: 2025-09-08 09:00:00+00:00, Temp: 20.29°C\n",
      "Time: 2025-09-08 12:00:00+00:00, Temp: 18.86°C\n"
     ]
    }
   ],
   "source": [
    "three_h_forecast = mgr.forecast_at_place('New York,US', '3h').forecast\n",
    "for weather in three_h_forecast:\n",
    "    dt = weather.reference_time('iso')\n",
    "    temp = weather.temperature(\"celsius\")[\"temp\"]\n",
    "    print(f\"Time: {dt}, Temp: {temp}°C\")"
   ]
  },
  {
   "cell_type": "markdown",
   "id": "7ab2b0cc-0d16-4da5-be3e-b8466faecca3",
   "metadata": {},
   "source": [
    "## use case 4: Convenience methods\n",
    "\n",
    "Wrappers often offer built-in methods to handle common kinds of tasks related to the APIs, reducing the need for manual calculations.\n",
    "\n",
    "for example converting units (e.g., temperature from Celsius to Fahrenheit) or working with more complex data requires manual conversion when using the raw API."
   ]
  },
  {
   "cell_type": "code",
   "execution_count": 89,
   "id": "c8e68dad-a503-49cf-9c1e-72e9ed1fab3d",
   "metadata": {},
   "outputs": [
    {
     "name": "stdout",
     "output_type": "stream",
     "text": [
      "Temperature in Celsius: 291.35°C, Fahrenheit: 556.4300000000001°F\n"
     ]
    }
   ],
   "source": [
    "city = 'London'\n",
    "url = f'http://api.openweathermap.org/data/2.5/weather?q={city}&appid={api_key}'\n",
    "\n",
    "response = requests.get(url)\n",
    "data = response.json()\n",
    "temperature_celsius = data['main']['temp']\n",
    "temperature_fahrenheit = (temperature_celsius * 9/5) + 32\n",
    "\n",
    "print(f\"Temperature in Celsius: {temperature_celsius}°C, Fahrenheit: {temperature_fahrenheit}°F\")"
   ]
  },
  {
   "cell_type": "markdown",
   "id": "9b05658c-e9cb-491d-8554-ab4d6dd56e1d",
   "metadata": {},
   "source": [
    "But the pyowm wrapper offers built-in methods to handle these kinds of tasks, reducing the need for manual calculations.\n",
    "Get the temperature both in Celcius and Farenheit using pyowm. Navigate the code recipes to figure out the inbuilt methods for this."
   ]
  },
  {
   "cell_type": "code",
   "execution_count": 90,
   "id": "4695bb83-bc35-4c1b-b390-5ea2027984ef",
   "metadata": {},
   "outputs": [
    {
     "name": "stdout",
     "output_type": "stream",
     "text": [
      "Temperature in Celsius: 18.51°C, Fahrenheit: 65.32°F\n"
     ]
    }
   ],
   "source": [
    "mgr = owm.weather_manager()\n",
    "observation = mgr.weather_at_place('London,GB')  # the observation object is a box containing a weather object\n",
    "temperature_celsius = observation.weather.temperature(\"celsius\")[\"temp\"]\n",
    "temperature_fahrenheit = observation.weather.temperature(\"fahrenheit\")[\"temp\"]\n",
    "\n",
    "print(f\"Temperature in Celsius: {temperature_celsius}°C, Fahrenheit: {temperature_fahrenheit}°F\")"
   ]
  }
 ],
 "metadata": {
  "kernelspec": {
   "display_name": "Python [conda env:base] *",
   "language": "python",
   "name": "conda-base-py"
  },
  "language_info": {
   "codemirror_mode": {
    "name": "ipython",
    "version": 3
   },
   "file_extension": ".py",
   "mimetype": "text/x-python",
   "name": "python",
   "nbconvert_exporter": "python",
   "pygments_lexer": "ipython3",
   "version": "3.12.7"
  }
 },
 "nbformat": 4,
 "nbformat_minor": 5
}
